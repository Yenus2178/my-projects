{
 "cells": [
  {
   "cell_type": "markdown",
   "id": "7afe49cb",
   "metadata": {},
   "source": [
    "This project is part of the freeCodeCamp Python curriculum. It implements a calculate() function in mean_var_std.py that processes a list of 9 digits, converts it into a 3x3 NumPy array, and computes statistical measures (mean, variance, standard deviation, maximum, minimum, and sum) along the columns, rows, and the flattened array. The results are returned in a dictionary with Python lists.\n",
    "Functionality"
   ]
  },
  {
   "cell_type": "code",
   "execution_count": 7,
   "id": "e51add53",
   "metadata": {},
   "outputs": [
    {
     "ename": "ModuleNotFoundError",
     "evalue": "No module named 'numpy'",
     "output_type": "error",
     "traceback": [
      "\u001b[31m---------------------------------------------------------------------------\u001b[39m",
      "\u001b[31mModuleNotFoundError\u001b[39m                       Traceback (most recent call last)",
      "\u001b[36mCell\u001b[39m\u001b[36m \u001b[39m\u001b[32mIn[7]\u001b[39m\u001b[32m, line 1\u001b[39m\n\u001b[32m----> \u001b[39m\u001b[32m1\u001b[39m \u001b[38;5;28;01mimport\u001b[39;00m\u001b[38;5;250m \u001b[39m\u001b[34;01mnumpy\u001b[39;00m\u001b[38;5;250m \u001b[39m\u001b[38;5;28;01mas\u001b[39;00m\u001b[38;5;250m \u001b[39m\u001b[34;01mnp\u001b[39;00m\n\u001b[32m      3\u001b[39m \u001b[38;5;28;01mdef\u001b[39;00m\u001b[38;5;250m \u001b[39m\u001b[34mcalculate\u001b[39m(lst):  \u001b[38;5;66;03m# or better: def calculate(numbers):\u001b[39;00m\n\u001b[32m      4\u001b[39m     \u001b[38;5;28;01mif\u001b[39;00m \u001b[38;5;28mlen\u001b[39m(lst) != \u001b[32m9\u001b[39m:\n",
      "\u001b[31mModuleNotFoundError\u001b[39m: No module named 'numpy'"
     ]
    }
   ],
   "source": [
    "import numpy as np\n",
    "\n",
    "def calculate(lst):  # or better: def calculate(numbers):\n",
    "    if len(lst) != 9:\n",
    "        raise ValueError(\"List must contain nine numbers.\")\n",
    "    \n",
    "    arr = np.array(lst).reshape(3, 3)\n",
    "    \n",
    "    return {\n",
    "        'mean': [\n",
    "            arr.mean(axis=0).tolist(), \n",
    "            arr.mean(axis=1).tolist(), \n",
    "            arr.mean()  # No .tolist() here\n",
    "        ],\n",
    "        'variance': [\n",
    "            arr.var(axis=0, ddof=1).tolist(),  # Sample variance\n",
    "            arr.var(axis=1, ddof=1).tolist(), \n",
    "            arr.var(ddof=1)\n",
    "        ],\n",
    "        'standard deviation': [\n",
    "            arr.std(axis=0, ddof=1).tolist(), \n",
    "            arr.std(axis=1, ddof=1).tolist(), \n",
    "            arr.std(ddof=1)\n",
    "        ],\n",
    "        'max': [\n",
    "            arr.max(axis=0).tolist(), \n",
    "            arr.max(axis=1).tolist(), \n",
    "            arr.max()\n",
    "        ],\n",
    "        'min': [\n",
    "            arr.min(axis=0).tolist(), \n",
    "            arr.min(axis=1).tolist(), \n",
    "            arr.min()\n",
    "        ],\n",
    "        'sum': [\n",
    "            arr.sum(axis=0).tolist(), \n",
    "            arr.sum(axis=1).tolist(), \n",
    "            arr.sum()\n",
    "        ]\n",
    "    }"
   ]
  }
 ],
 "metadata": {
  "kernelspec": {
   "display_name": ".venv",
   "language": "python",
   "name": "python3"
  },
  "language_info": {
   "codemirror_mode": {
    "name": "ipython",
    "version": 3
   },
   "file_extension": ".py",
   "mimetype": "text/x-python",
   "name": "python",
   "nbconvert_exporter": "python",
   "pygments_lexer": "ipython3",
   "version": "3.13.2"
  }
 },
 "nbformat": 4,
 "nbformat_minor": 5
}
